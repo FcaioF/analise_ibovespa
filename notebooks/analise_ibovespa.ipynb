{
 "cells": [
  {
   "cell_type": "code",
   "execution_count": 2,
   "metadata": {},
   "outputs": [],
   "source": [
    "#imports\n",
    "from pyspark.sql import SparkSession\n",
    "from pyspark.sql.functions import * \n",
    "from pyspark.sql.types import *"
   ]
  },
  {
   "cell_type": "code",
   "execution_count": 3,
   "metadata": {},
   "outputs": [],
   "source": [
    "#instanciando spark \n",
    "spark = SparkSession.builder \\\n",
    "    .master('local[2]') \\\n",
    "    .appName('analise_bovespa') \\\n",
    "    .config('spark.ui.port', '4050') \\\n",
    "    .getOrCreate()"
   ]
  },
  {
   "cell_type": "code",
   "execution_count": 4,
   "metadata": {},
   "outputs": [],
   "source": [
    "#work directories\n",
    "stage_data = 'D://caiof//Documents//GIT_Repos//Programs//analise_acoes_ibovespa//stage_data//bovespa_concat.csv'"
   ]
  },
  {
   "cell_type": "code",
   "execution_count": 5,
   "metadata": {},
   "outputs": [
    {
     "name": "stdout",
     "output_type": "stream",
     "text": [
      "+-----------+----------+------------+--------------+------------+------------+----------------+-----------+--------------+\n",
      "|data_pregao|sigla_acao|   nome_acao|preco_abertura|preco_maximo|preco_minimo|preco_fechamento|qtd_negocio|volume_negocio|\n",
      "+-----------+----------+------------+--------------+------------+------------+----------------+-----------+--------------+\n",
      "| 2020-01-02|     AALR3|      ALLIAR|         18.29|        19.0|       18.28|            19.0|   585800.0|   1.0946196E9|\n",
      "| 2020-01-02|    AAPL34|       APPLE|         120.0|      121.34|       120.0|          121.34|    12700.0|     1.53338E8|\n",
      "| 2020-01-02|     ABCB4|  ABC BRASIL|          20.0|        20.3|       19.82|            20.3|   870400.0|   1.7457878E9|\n",
      "| 2020-01-02|     ABEV3|   AMBEV S/A|         18.86|       19.25|       18.78|            19.2|  1.60113E7| 3.06234791E10|\n",
      "| 2020-01-02|     ADHM3| ADVANCED-DH|          2.55|        2.55|        2.35|            2.48|   193400.0|     4.71927E7|\n",
      "| 2020-01-02|     AFLT3|  AFLUENTE T|         11.13|       11.28|        11.0|           11.23|     4300.0|     4796200.0|\n",
      "| 2020-01-02|     AGRO3|  BRASILAGRO|          19.1|        19.3|        19.1|           19.25|    59600.0|    1.145318E8|\n",
      "| 2020-01-02|     ALPA3|  ALPARGATAS|         27.58|       27.64|        26.8|            26.8|     9700.0|      2.6358E7|\n",
      "| 2020-01-02|     ALPA4|  ALPARGATAS|         32.98|       33.44|       32.47|           32.58|  1355800.0|   4.4394893E9|\n",
      "| 2020-01-02|     ALSO3|ALIANSCSONAE|         49.49|       50.76|       49.49|           50.01|  1627800.0|   8.1609679E9|\n",
      "| 2020-01-02|     ALUP3|      ALUPAR|         11.59|       11.66|        10.7|           11.66|    56600.0|     6.31431E7|\n",
      "| 2020-01-02|     ALUP4|      ALUPAR|          8.99|        8.99|        8.33|            8.42|    20600.0|     1.73567E7|\n",
      "| 2020-01-02|    ALUP11|      ALUPAR|         27.75|       28.65|       27.53|           28.65|   431000.0|   1.2112149E9|\n",
      "| 2020-01-02|     AMAR3|LOJAS MARISA|         13.29|       13.48|       13.07|           13.46|  1667200.0|   2.2240852E9|\n",
      "| 2020-01-02|    AMZO34|      AMAZON|        3796.0|     3803.38|      3796.0|         3803.38|      300.0|    1.139538E8|\n",
      "| 2020-01-02|     ANIM3|       ANIMA|         30.04|       30.29|       29.44|            29.6|   578500.0|   1.7291895E9|\n",
      "| 2020-01-02|     APER3|  ALPER S.A.|         29.05|        30.8|       29.05|            30.7|   145400.0|    4.374442E8|\n",
      "| 2020-01-02|     ARZZ3|   AREZZO CO|          64.0|        64.2|       63.13|           63.91|   529300.0|   3.3646381E9|\n",
      "| 2020-01-02|     ATOM3|     ATOMPAR|          1.69|        1.74|        1.68|            1.72|    49200.0|     8404800.0|\n",
      "| 2020-01-02|    ATTB34|     ATT INC|        157.44|      157.44|      157.44|          157.44|      200.0|     3148800.0|\n",
      "+-----------+----------+------------+--------------+------------+------------+----------------+-----------+--------------+\n",
      "only showing top 20 rows\n",
      "\n"
     ]
    }
   ],
   "source": [
    "ibov_df = (\n",
    "    spark\n",
    "    .read\n",
    "    .format('csv')\n",
    "    .option('header','True')\n",
    "    .option('inferschema', 'True')\n",
    "    .load(stage_data)\n",
    "    \n",
    ")\n",
    "\n",
    "ibov_df.show()"
   ]
  },
  {
   "cell_type": "code",
   "execution_count": 12,
   "metadata": {},
   "outputs": [],
   "source": [
    "ibov_df.createOrReplaceTempView('ibov_df')"
   ]
  },
  {
   "attachments": {},
   "cell_type": "markdown",
   "metadata": {},
   "source": [
    "Data maxima e minima do dataset"
   ]
  },
  {
   "cell_type": "code",
   "execution_count": 29,
   "metadata": {},
   "outputs": [
    {
     "name": "stdout",
     "output_type": "stream",
     "text": [
      "+-----------+-----------+\n",
      "|data_minima|data_maxima|\n",
      "+-----------+-----------+\n",
      "|2020-01-02 |2023-06-14 |\n",
      "+-----------+-----------+\n",
      "\n"
     ]
    }
   ],
   "source": [
    "(\n",
    "    spark\n",
    "    .sql(\"\"\" \n",
    "    select \n",
    "        min(data_pregao) as data_minima,\n",
    "        max(data_pregao) as data_maxima \n",
    "    from ibov_df;              \n",
    "\n",
    "    \"\"\")\n",
    "    .show(truncate=False)\n",
    ")"
   ]
  },
  {
   "attachments": {},
   "cell_type": "markdown",
   "metadata": {},
   "source": [
    "Top 10 ações mais negociadas"
   ]
  },
  {
   "cell_type": "code",
   "execution_count": 28,
   "metadata": {},
   "outputs": [
    {
     "name": "stdout",
     "output_type": "stream",
     "text": [
      "+----------+-----+\n",
      "|sigla_acao|total|\n",
      "+----------+-----+\n",
      "|ITUB3     |858  |\n",
      "|MILS3     |858  |\n",
      "|MYPK3     |858  |\n",
      "|BRKM5     |858  |\n",
      "|PRIO3     |858  |\n",
      "|GGBR4     |858  |\n",
      "|ENBR3     |858  |\n",
      "|ELET3     |858  |\n",
      "|SANB4     |858  |\n",
      "|KLBN3     |858  |\n",
      "+----------+-----+\n",
      "\n"
     ]
    }
   ],
   "source": [
    "(\n",
    "    spark\n",
    "    .sql(\"\"\" \n",
    "    select \n",
    "        sigla_acao,\n",
    "        count(*) as total \n",
    "    from ibov_df \n",
    "    group by(sigla_acao)\n",
    "    \n",
    "    order by(total) desc \n",
    "    limit 10;              \n",
    "\n",
    "    \"\"\")\n",
    "    .show(truncate=False)\n",
    ")"
   ]
  },
  {
   "attachments": {},
   "cell_type": "markdown",
   "metadata": {},
   "source": [
    "Qual o preço medio de fechamento das ações de itau (ações ordinarias e ações preferenciais)\n",
    "no primeiro semestre de 2023 "
   ]
  },
  {
   "cell_type": "code",
   "execution_count": 55,
   "metadata": {},
   "outputs": [
    {
     "name": "stdout",
     "output_type": "stream",
     "text": [
      "+----------+----------------------+\n",
      "|sigla_acao|preco_fechamento_medio|\n",
      "+----------+----------------------+\n",
      "|     ITUB3|                  22.0|\n",
      "|     ITUB4|                  26.0|\n",
      "+----------+----------------------+\n",
      "\n"
     ]
    }
   ],
   "source": [
    "(\n",
    "    ibov_df\n",
    "    .filter((col('data_pregao') >= '2023-01-01'))\n",
    "    .filter((col('sigla_acao') == 'ITUB3') | (col('sigla_acao') == 'ITUB4') )\n",
    "    .groupBy('sigla_acao')\n",
    "    .agg(\n",
    "        round(mean(col('preco_fechamento'))).alias('preco_fechamento_medio')\n",
    "    )\n",
    "    .show()\n",
    ")"
   ]
  },
  {
   "cell_type": "code",
   "execution_count": null,
   "metadata": {},
   "outputs": [],
   "source": []
  }
 ],
 "metadata": {
  "kernelspec": {
   "display_name": "base",
   "language": "python",
   "name": "python3"
  },
  "language_info": {
   "codemirror_mode": {
    "name": "ipython",
    "version": 3
   },
   "file_extension": ".py",
   "mimetype": "text/x-python",
   "name": "python",
   "nbconvert_exporter": "python",
   "pygments_lexer": "ipython3",
   "version": "3.10.11"
  },
  "orig_nbformat": 4
 },
 "nbformat": 4,
 "nbformat_minor": 2
}
