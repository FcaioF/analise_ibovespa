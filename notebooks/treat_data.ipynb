{
 "cells": [
  {
   "cell_type": "code",
   "execution_count": 1,
   "metadata": {
    "ExecuteTime": {
     "end_time": "2023-09-20T15:54:00.875843700Z",
     "start_time": "2023-09-20T15:53:57.477040100Z"
    }
   },
   "outputs": [],
   "source": [
    "#imports\n",
    "import pandas as pd"
   ]
  },
  {
   "attachments": {},
   "cell_type": "markdown",
   "metadata": {},
   "source": [
    "funcoes usadas para transformar os dados do Ibovespa"
   ]
  },
  {
   "cell_type": "code",
   "execution_count": 1,
   "metadata": {},
   "outputs": [],
   "source": [
    "#\n",
    "\n",
    "def read_file(path , name_file ,year_date, type_file):\n",
    "    #realiza a leitura dos dados e trasnforma e dataframe pandas\n",
    "\n",
    "    _file = (f'{path}{name_file}{year_date}.{type_file}')\n",
    "\n",
    "    colSpecs = [(2,10),\n",
    "            (10,12),\n",
    "            (12,24),\n",
    "            (27,39),\n",
    "            (56,69),\n",
    "            (69,82),\n",
    "            (82,95),\n",
    "            (108,121),\n",
    "            (152,170),\n",
    "            (170,188)\n",
    "    ]\n",
    "\n",
    "    colName = ['data_pregao',\n",
    "            'cod_bdi',\n",
    "            'sigla_acao',\n",
    "            'nome_acao',\n",
    "            'preco_abertura',\n",
    "            'preco_maximo',\n",
    "            'preco_minimo',\n",
    "            'preco_fechamento',\n",
    "            'qtd_negocio',\n",
    "            'volume_negocio'\n",
    "    ]\n",
    "\n",
    "    ibove_df = pd.read_fwf(_file, colspecs= colSpecs, names= colName, skiprows = 1)\n",
    "    return ibove_df\n",
    "\n",
    "\n",
    "def filter_stocks(df):\n",
    "    #filtra somente os registros cujo codigo BDI é igual a 2 \n",
    "\n",
    "    Filtered_df = (\n",
    "        df[df['cod_bdi'] == 2]\n",
    "        .drop(['cod_bdi'],1)\n",
    "    )\n",
    "    return Filtered_df\n",
    "\n",
    "\n",
    "def parse_date(df):\n",
    "    #Aplica mascara de data aos dados da coluna \"data_pregao\"\n",
    "    df['data_pregao'] = pd.to_datetime(df['data_pregao'], format = '%Y%m%d')\n",
    "    return df\n",
    "\n",
    "\n",
    "def parse_values(df):\n",
    "    #ajuste dos campos numericos (Tipagem dos campos de string para float)\n",
    "    df['preco_abertura'] = (df['preco_abertura'] /100).astype(float)\n",
    "    df['preco_maximo'] = (df['preco_maximo'] /100).astype(float)\n",
    "    df['preco_minimo'] = (df['preco_minimo'] /100).astype(float)\n",
    "    df['preco_fechamento'] = (df['preco_fechamento'] /100).astype(float)\n",
    "    return df\n",
    "\n",
    "\n",
    "def concat_files(raw_path, stg_path, name_file , year_date, type_file , final_file):\n",
    "    #concatena multiplos arquivos em um unico\n",
    "    for i , y in enumerate(year_date):\n",
    "        df = read_file(raw_path, name_file,y,type_file)\n",
    "        df = filter_stocks(df)\n",
    "        df = parse_date(df)\n",
    "        df = parse_values(df)\n",
    "\n",
    "        if( i == 0 ):\n",
    "            df_final = df\n",
    "        else:\n",
    "            df_final = pd.concat([df_final,df])\n",
    "            \n",
    "\n",
    "    df_final.to_csv(f'{stg_path}{final_file}' ,index=False)"
   ]
  },
  {
   "cell_type": "code",
   "execution_count": 3,
   "metadata": {},
   "outputs": [
    {
     "name": "stderr",
     "output_type": "stream",
     "text": [
      "C:\\Users\\caiof\\AppData\\Local\\Temp\\ipykernel_15396\\939146849.py:41: FutureWarning: In a future version of pandas all arguments of DataFrame.drop except for the argument 'labels' will be keyword-only.\n",
      "  .drop(['cod_bdi'],1)\n",
      "C:\\Users\\caiof\\AppData\\Local\\Temp\\ipykernel_15396\\939146849.py:41: FutureWarning: In a future version of pandas all arguments of DataFrame.drop except for the argument 'labels' will be keyword-only.\n",
      "  .drop(['cod_bdi'],1)\n",
      "C:\\Users\\caiof\\AppData\\Local\\Temp\\ipykernel_15396\\939146849.py:41: FutureWarning: In a future version of pandas all arguments of DataFrame.drop except for the argument 'labels' will be keyword-only.\n",
      "  .drop(['cod_bdi'],1)\n",
      "C:\\Users\\caiof\\AppData\\Local\\Temp\\ipykernel_15396\\939146849.py:41: FutureWarning: In a future version of pandas all arguments of DataFrame.drop except for the argument 'labels' will be keyword-only.\n",
      "  .drop(['cod_bdi'],1)\n"
     ]
    }
   ],
   "source": [
    "#executando transformacao dos dados\n",
    "raw_path = 'D://caiof//Documents//GIT_Repos//Programs//analise_acoes_ibovespa//raw_data//'\n",
    "stg_path = 'D://caiof//Documents//GIT_Repos//Programs//analise_acoes_ibovespa//stage_data//'\n",
    "name_file = 'COTAHIST_A'\n",
    "year_date = ['2020','2021','2022','2023']\n",
    "type_file = 'txt'\n",
    "final_file = 'bovespa_concat.csv'\n",
    "\n",
    "concat_files(raw_path, stg_path , name_file , year_date, type_file , final_file)\n"
   ]
  }
 ],
 "metadata": {
  "kernelspec": {
   "display_name": "base",
   "language": "python",
   "name": "python3"
  },
  "language_info": {
   "codemirror_mode": {
    "name": "ipython",
    "version": 3
   },
   "file_extension": ".py",
   "mimetype": "text/x-python",
   "name": "python",
   "nbconvert_exporter": "python",
   "pygments_lexer": "ipython3",
   "version": "3.10.11"
  },
  "orig_nbformat": 4
 },
 "nbformat": 4,
 "nbformat_minor": 2
}
